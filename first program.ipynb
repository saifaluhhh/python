{
 "cells": [
  {
   "cell_type": "code",
   "execution_count": null,
   "id": "650e6be2",
   "metadata": {},
   "outputs": [],
   "source": [
    "#wap in python to add two numbers "
   ]
  },
  {
   "cell_type": "markdown",
   "id": "ffa599c7",
   "metadata": {},
   "source": []
  },
  {
   "cell_type": "code",
   "execution_count": 5,
   "id": "8d82f1ad",
   "metadata": {},
   "outputs": [
    {
     "name": "stdout",
     "output_type": "stream",
     "text": [
      "Enter first number:5\n",
      "Enter second number:8\n",
      "sum is 13\n"
     ]
    }
   ],
   "source": [
    "a =int(input(\"Enter first number:\"))\n",
    "b =int(input(\"Enter second number:\"))\n",
    "c=(a+b)\n",
    "print(\"sum is\",c)\n"
   ]
  },
  {
   "cell_type": "code",
   "execution_count": null,
   "id": "a7e4cfc8",
   "metadata": {},
   "outputs": [],
   "source": []
  }
 ],
 "metadata": {
  "kernelspec": {
   "display_name": "Python 3 (ipykernel)",
   "language": "python",
   "name": "python3"
  },
  "language_info": {
   "codemirror_mode": {
    "name": "ipython",
    "version": 3
   },
   "file_extension": ".py",
   "mimetype": "text/x-python",
   "name": "python",
   "nbconvert_exporter": "python",
   "pygments_lexer": "ipython3",
   "version": "3.12.3"
  }
 },
 "nbformat": 4,
 "nbformat_minor": 5
}
