{
 "cells": [
  {
   "cell_type": "code",
   "execution_count": 1,
   "id": "7fc2ac47-7760-4fd7-a1ac-c3587d9b3dd2",
   "metadata": {},
   "outputs": [],
   "source": [
    "#Wap to add two numbers using function\n"
   ]
  },
  {
   "cell_type": "code",
   "execution_count": 7,
   "id": "12c8a24b-439a-4c29-919b-b6979532c0a6",
   "metadata": {},
   "outputs": [
    {
     "name": "stdin",
     "output_type": "stream",
     "text": [
      "Enter first number: 5\n",
      "Enter second number: 8\n"
     ]
    },
    {
     "name": "stdout",
     "output_type": "stream",
     "text": [
      "13\n"
     ]
    }
   ],
   "source": [
    "def sum(n1,n2):\n",
    "    return n1 + n2\n",
    "\n",
    "no1= int(input(\"Enter first number:\"))\n",
    "no2= int(input(\"Enter second number:\"))\n",
    "print(sum(no1,no2))"
   ]
  },
  {
   "cell_type": "code",
   "execution_count": 8,
   "id": "d3801eb0-00fe-43d7-ae7c-76a2c2cfe1b1",
   "metadata": {},
   "outputs": [],
   "source": [
    "#Wap to add two numbers using lambda"
   ]
  },
  {
   "cell_type": "code",
   "execution_count": 10,
   "id": "7616ffba-062a-4b81-a91d-0a79c910dce4",
   "metadata": {},
   "outputs": [
    {
     "name": "stdin",
     "output_type": "stream",
     "text": [
      "Enter first number: 56\n",
      "Enter second number: 85\n"
     ]
    },
    {
     "name": "stdout",
     "output_type": "stream",
     "text": [
      "141\n"
     ]
    }
   ],
   "source": [
    "add = lambda n1,n2: n1+n2\n",
    "\n",
    "no1= int(input(\"Enter first number:\"))\n",
    "no2= int(input(\"Enter second number:\"))\n",
    "print(add(no1,no2))"
   ]
  },
  {
   "cell_type": "code",
   "execution_count": null,
   "id": "92026417-c904-44df-9bdd-cff443f11cf8",
   "metadata": {},
   "outputs": [],
   "source": []
  }
 ],
 "metadata": {
  "kernelspec": {
   "display_name": "Python 3 (ipykernel)",
   "language": "python",
   "name": "python3"
  },
  "language_info": {
   "codemirror_mode": {
    "name": "ipython",
    "version": 3
   },
   "file_extension": ".py",
   "mimetype": "text/x-python",
   "name": "python",
   "nbconvert_exporter": "python",
   "pygments_lexer": "ipython3",
   "version": "3.12.4"
  }
 },
 "nbformat": 4,
 "nbformat_minor": 5
}
