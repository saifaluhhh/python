{
 "cells": [
  {
   "cell_type": "code",
   "execution_count": 4,
   "id": "4d9b0e3d-436e-4898-9535-59eb63364e19",
   "metadata": {},
   "outputs": [
    {
     "name": "stdout",
     "output_type": "stream",
     "text": [
      "inside the function local total: 30\n",
      "Outside the function global total  0\n"
     ]
    }
   ],
   "source": [
    "total = 0;\n",
    "def sum(arg1,arg2):\n",
    "  total = arg1 + arg2;\n",
    "  print(\"inside the function local total:\",total)\n",
    "  return total;\n",
    "sum(10,20);\n",
    "print(\"Outside the function global total \",total)\n",
    "\n"
   ]
  },
  {
   "cell_type": "code",
   "execution_count": null,
   "id": "97230385-d7e6-44ef-9969-2417ca9d9c8f",
   "metadata": {},
   "outputs": [],
   "source": []
  }
 ],
 "metadata": {
  "kernelspec": {
   "display_name": "Python 3 (ipykernel)",
   "language": "python",
   "name": "python3"
  },
  "language_info": {
   "codemirror_mode": {
    "name": "ipython",
    "version": 3
   },
   "file_extension": ".py",
   "mimetype": "text/x-python",
   "name": "python",
   "nbconvert_exporter": "python",
   "pygments_lexer": "ipython3",
   "version": "3.12.4"
  }
 },
 "nbformat": 4,
 "nbformat_minor": 5
}
