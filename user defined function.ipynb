{
 "cells": [
  {
   "cell_type": "code",
   "execution_count": 1,
   "id": "432ba13f",
   "metadata": {},
   "outputs": [],
   "source": [
    "#WAP user defined function using 3 variables\n"
   ]
  },
  {
   "cell_type": "code",
   "execution_count": 3,
   "id": "18c0fa3f",
   "metadata": {},
   "outputs": [
    {
     "name": "stdout",
     "output_type": "stream",
     "text": [
      "Enter value of x:5\n",
      "Enter value of Y:8.5\n",
      "Enter value of Z:9\n",
      "(22.5, 382.5)\n"
     ]
    }
   ],
   "source": [
    "x = int(input(\"Enter value of x:\"))\n",
    "y = float(input(\"Enter value of Y:\"))\n",
    "z = int(input(\"Enter value of Z:\"))\n",
    "\n",
    "def sumpro(x,y,z):\n",
    "    a = x + y + z\n",
    "    b = x * y * z\n",
    "    return a,b\n",
    "print(sumpro(x,y,z))\n"
   ]
  },
  {
   "cell_type": "code",
   "execution_count": null,
   "id": "4c201f6a",
   "metadata": {},
   "outputs": [],
   "source": []
  }
 ],
 "metadata": {
  "kernelspec": {
   "display_name": "Python 3 (ipykernel)",
   "language": "python",
   "name": "python3"
  },
  "language_info": {
   "codemirror_mode": {
    "name": "ipython",
    "version": 3
   },
   "file_extension": ".py",
   "mimetype": "text/x-python",
   "name": "python",
   "nbconvert_exporter": "python",
   "pygments_lexer": "ipython3",
   "version": "3.12.3"
  }
 },
 "nbformat": 4,
 "nbformat_minor": 5
}
